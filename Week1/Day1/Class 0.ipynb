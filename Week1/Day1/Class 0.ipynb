{
 "cells": [
  {
   "cell_type": "markdown",
   "metadata": {},
   "source": [
    "# CS492: 전산학특강<스마트에너지를 위한 인공지능> \n",
    "## Deep Learning Practice \n",
    "#### Prof. Ho-Jin Choi\n",
    "#### School of Computing, KAIST\n",
    "\n",
    "---"
   ]
  },
  {
   "cell_type": "markdown",
   "metadata": {},
   "source": [
    "## 1. Schedule"
   ]
  },
  {
   "cell_type": "markdown",
   "metadata": {},
   "source": [
    "- **Introduction to Tensorflow**\n",
    "    - Environment setup  \n",
    "    - Tensors and operations based on eager execution  \n",
    "    - Neural networks in TensorFlow  \n",
    "    - Image classification  \n",
    "    - Text classification  \n",
    "    - Overfitting and how to fight it\n",
    "    - Exercise\n",
    "- **Convolutional Neural Networks**\n",
    "    - CNN layers\n",
    "    - CNN architectures\n",
    "    - Case studies (AlexNet, VGGNet, GoogLeNet, ResNet)\n",
    "    - Transfer learning-\n",
    "    - Practice: Image classification (CIFAR)\n",
    "- **Recurrent Neural Networks**\n",
    "    - RNN architectures\n",
    "    - RNN Training - Backpropagtion through time\n",
    "    - Sequence to sequence\n",
    "    - Practice: Language model\n",
    "\n",
    "- **Advanced Models**\n",
    "    - Define your model and train \n",
    "        - Custom layers\n",
    "        - Custom training\n",
    "    - CNN advanced models \n",
    "        - Object recognition\n",
    "        - Image captioning with attention mechanism\n",
    "    - RNN advanced models \n",
    "        - Seq2seq with attention mechanism\n",
    "        - Transformer\n",
    "        - ELMO\n",
    "        - BERT"
   ]
  },
  {
   "cell_type": "markdown",
   "metadata": {},
   "source": [
    "## 2. Test if everything is up & running"
   ]
  },
  {
   "cell_type": "markdown",
   "metadata": {},
   "source": [
    "### 2-1. Python Version\n",
    "Currently we are running this tutorial with **Python 3** on **Google Colab**"
   ]
  },
  {
   "cell_type": "code",
   "execution_count": 2,
   "metadata": {},
   "outputs": [
    {
     "name": "stdout",
     "output_type": "stream",
     "text": [
      "Python 3.6.8\n"
     ]
    }
   ],
   "source": [
    "!python3 --version"
   ]
  },
  {
   "cell_type": "markdown",
   "metadata": {},
   "source": [
    "### 2-2. Check imports"
   ]
  },
  {
   "cell_type": "code",
   "execution_count": 3,
   "metadata": {},
   "outputs": [],
   "source": [
    "import numpy as np\n",
    "import scipy as sp\n",
    "import matplotlib.pyplot as plt"
   ]
  },
  {
   "cell_type": "markdown",
   "metadata": {},
   "source": [
    "### 2-3. Check library versions"
   ]
  },
  {
   "cell_type": "code",
   "execution_count": 4,
   "metadata": {},
   "outputs": [
    {
     "name": "stdout",
     "output_type": "stream",
     "text": [
      "Tensorflow:  2.0.0-rc0\n",
      "numpy: 1.17.0\n",
      "scipy: 1.3.1\n",
      "matplotlib: 3.1.1\n"
     ]
    }
   ],
   "source": [
    "# Install TensorFlow\n",
    "try:\n",
    "    # %tensorflow_version only exists in Colab.\n",
    "    %tensorflow_version 2.x\n",
    "except Exception:\n",
    "    pass\n",
    "import tensorflow as tf\n",
    "print('Tensorflow: ', tf.__version__)\n",
    "\n",
    "import numpy\n",
    "print('numpy:', numpy.__version__)\n",
    "\n",
    "import scipy\n",
    "print('scipy:', scipy.__version__)\n",
    "\n",
    "import matplotlib\n",
    "print('matplotlib:', matplotlib.__version__)"
   ]
  },
  {
   "cell_type": "markdown",
   "metadata": {},
   "source": [
    "[[back to top](#1.-Schedule)] "
   ]
  }
 ],
 "metadata": {
  "kernelspec": {
   "display_name": "Python 3",
   "language": "python",
   "name": "python3"
  },
  "language_info": {
   "codemirror_mode": {
    "name": "ipython",
    "version": 3
   },
   "file_extension": ".py",
   "mimetype": "text/x-python",
   "name": "python",
   "nbconvert_exporter": "python",
   "pygments_lexer": "ipython3",
   "version": "3.6.8"
  }
 },
 "nbformat": 4,
 "nbformat_minor": 4
}
