{
 "cells": [
  {
   "cell_type": "markdown",
   "metadata": {},
   "source": [
    "# CS492: 전산학특강<스마트에너지를 위한 인공지능> \n",
    "## Deep Learning Practice \n",
    "#### Prof. Ho-Jin Choi\n",
    "#### School of Computing, KAIST\n",
    "\n",
    "---"
   ]
  },
  {
   "cell_type": "markdown",
   "metadata": {},
   "source": [
    "### 2-3. Overfitting and how to fight it"
   ]
  },
  {
   "cell_type": "markdown",
   "metadata": {},
   "source": [
    "In the previous example, we saw that the accuracy of our model on the validation data would peak after training for a number of epochs, and would then start decreasing or being fixed.\n",
    "\n",
    "In other words, our model would _overfit to the training data_. Learning how to deal with overfitting is important. Although it's often possible to achieve high accuracy on the training set, what we really want is to develop models that generalize well to a testing set (or data they haven't seen before). If you train for too long though, the model will start to overfit and learn patterns from the training data that don't generalize to the test data. We need to strike a balance. Understanding how to train for an appropriate number of epochs as we'll explore below is a useful skill.\n",
    "\n",
    "To prevent overfitting, the best solution is to use more training data. A model trained on more data will naturally generalize better. When that is no longer possible, the next best solution is to use techniques like _regularization_. These place constraints on the quantity and type of information your model can store. If a network can only afford to memorize a small number of patterns, the optimization process will force it to focus on the most prominent patterns, which have a better chance of generalizing well.\n",
    "\n",
    "In this part, we'll explore two common regularization techniques, weight regularization and dropout, and use them to improve our model.\n",
    "\n",
    "First, we'll set up the environment as before."
   ]
  },
  {
   "cell_type": "code",
   "execution_count": 2,
   "metadata": {},
   "outputs": [
    {
     "name": "stdout",
     "output_type": "stream",
     "text": [
      "Tensorflow:  2.0.0-rc0\n"
     ]
    }
   ],
   "source": [
    "from __future__ import absolute_import, division, print_function, unicode_literals\n",
    "\n",
    "try:\n",
    "  # %tensorflow_version only exists in Colab.\n",
    "  %tensorflow_version 2.x\n",
    "except Exception:\n",
    "    pass\n",
    "import tensorflow as tf\n",
    "print('Tensorflow: ', tf.__version__)\n",
    "\n",
    "import numpy as np\n",
    "import matplotlib.pyplot as plt"
   ]
  },
  {
   "cell_type": "markdown",
   "metadata": {},
   "source": [
    "#### Load the IMDB dataset"
   ]
  },
  {
   "cell_type": "code",
   "execution_count": 3,
   "metadata": {},
   "outputs": [],
   "source": [
    "NUM_WORDS = 10000\n",
    "\n",
    "(train_data, train_labels), (test_data, test_labels) = tf.keras.datasets.imdb.load_data(num_words=NUM_WORDS)\n",
    "\n",
    "def multi_hot_sequences(sequences, dimension):\n",
    "    # Create an all-zero matrix of shape (len(sequences), dimension)\n",
    "    results = np.zeros((len(sequences), dimension))\n",
    "    for i, word_indices in enumerate(sequences):\n",
    "        results[i, word_indices] = 1.0  # set specific indices of results[i] to 1s\n",
    "    return results\n",
    "\n",
    "train_data = multi_hot_sequences(train_data, dimension=NUM_WORDS)\n",
    "test_data = multi_hot_sequences(test_data, dimension=NUM_WORDS)"
   ]
  },
  {
   "cell_type": "markdown",
   "metadata": {},
   "source": [
    "#### Create a validation set"
   ]
  },
  {
   "cell_type": "code",
   "execution_count": 4,
   "metadata": {},
   "outputs": [],
   "source": [
    "x_val = train_data[:10000]\n",
    "partial_x_train = train_data[10000:]\n",
    "\n",
    "y_val = train_labels[:10000]\n",
    "partial_y_train = train_labels[10000:]"
   ]
  },
  {
   "cell_type": "markdown",
   "metadata": {},
   "source": [
    "#### Demonstrate overfitting by model size\n",
    "\n",
    "The simplest way to prevent overfitting is to reduce the size of the model, i.e. the number of learnable parameters in the model. In deep learning, the number of learnable parameters in a model is often referred to as the model's **\"_capacity_\"**. Intuitively, a model with more parameters will have more \"memorization capacity\" and therefore will be able to easily learn a perfect dictionary-like mapping between training samples and their targets, **a mapping without any generalization power, but this would be useless when making predictions on previously unseen data**.\n",
    "\n",
    "On the other hand, if the **network has limited memorization resources**, it will not be able to learn the mapping as easily. To minimize its loss, **it will have to learn compressed representations that have more predictive power.** At the same time, if you make your model too small, **it will have difficulty fitting to the training data.** There is a balance between \"too much capacity\" and \"not enough capacity\".\n",
    "\n",
    "To find an appropriate model size empirically, it's best to start with relatively few layers and parameters, then begin increasing the size of the layers or adding new layers until you see diminishing returns on the validation loss. Let's try this on our movie review classification network.\n",
    "\n",
    "We'll create a simple model using only Dense layers as a baseline, then create smaller and larger versions, and compare them."
   ]
  },
  {
   "cell_type": "markdown",
   "metadata": {},
   "source": [
    "#### Create a baseline model"
   ]
  },
  {
   "cell_type": "code",
   "execution_count": 5,
   "metadata": {},
   "outputs": [
    {
     "name": "stdout",
     "output_type": "stream",
     "text": [
      "Model: \"sequential\"\n",
      "_________________________________________________________________\n",
      "Layer (type)                 Output Shape              Param #   \n",
      "=================================================================\n",
      "dense (Dense)                (None, 16)                160016    \n",
      "_________________________________________________________________\n",
      "dense_1 (Dense)              (None, 16)                272       \n",
      "_________________________________________________________________\n",
      "dense_2 (Dense)              (None, 1)                 17        \n",
      "=================================================================\n",
      "Total params: 160,305\n",
      "Trainable params: 160,305\n",
      "Non-trainable params: 0\n",
      "_________________________________________________________________\n"
     ]
    }
   ],
   "source": [
    "baseline_model = tf.keras.Sequential([\n",
    "    # TODO: add a first dense layer with 16 nodes applying ReLU activation function\n",
    "    tf.keras.layers.Dense(16, activation='relu', input_shape=(NUM_WORDS,)),\n",
    "    # TODO: add a second dense layer with 16 nodes applying ReLU activation function\n",
    "    tf.keras.layers.Dense(16, activation='relu'),\n",
    "    # TODO: add a last dense layer with only 1 node applying Softmax activation function\n",
    "    tf.keras.layers.Dense(1, activation='sigmoid')\n",
    "])\n",
    "\n",
    "baseline_model.compile(optimizer='adam', \n",
    "                       loss='binary_crossentropy',\n",
    "                       metrics=['accuracy'])\n",
    "\n",
    "baseline_model.summary()"
   ]
  },
  {
   "cell_type": "code",
   "execution_count": 6,
   "metadata": {},
   "outputs": [
    {
     "name": "stderr",
     "output_type": "stream",
     "text": [
      "WARNING: Logging before flag parsing goes to stderr.\n",
      "W0917 02:31:06.323034 139916031739712 deprecation.py:323] From /usr/local/lib/python3.6/dist-packages/tensorflow_core/python/ops/nn_impl.py:183: where (from tensorflow.python.ops.array_ops) is deprecated and will be removed in a future version.\n",
      "Instructions for updating:\n",
      "Use tf.where in 2.0, which has the same broadcast rule as np.where\n"
     ]
    },
    {
     "name": "stdout",
     "output_type": "stream",
     "text": [
      "Train on 15000 samples, validate on 10000 samples\n",
      "Epoch 1/20\n",
      "15000/15000 - 1s - loss: 0.5872 - accuracy: 0.7410 - val_loss: 0.4443 - val_accuracy: 0.8544\n",
      "Epoch 2/20\n",
      "15000/15000 - 1s - loss: 0.3405 - accuracy: 0.8923 - val_loss: 0.3155 - val_accuracy: 0.8806\n",
      "Epoch 3/20\n",
      "15000/15000 - 1s - loss: 0.2290 - accuracy: 0.9253 - val_loss: 0.2815 - val_accuracy: 0.8890\n",
      "Epoch 4/20\n",
      "15000/15000 - 1s - loss: 0.1713 - accuracy: 0.9459 - val_loss: 0.2773 - val_accuracy: 0.8891\n",
      "Epoch 5/20\n",
      "15000/15000 - 1s - loss: 0.1339 - accuracy: 0.9603 - val_loss: 0.2866 - val_accuracy: 0.8868\n",
      "Epoch 6/20\n",
      "15000/15000 - 1s - loss: 0.1060 - accuracy: 0.9701 - val_loss: 0.3013 - val_accuracy: 0.8813\n",
      "Epoch 7/20\n",
      "15000/15000 - 1s - loss: 0.0851 - accuracy: 0.9791 - val_loss: 0.3241 - val_accuracy: 0.8806\n",
      "Epoch 8/20\n",
      "15000/15000 - 1s - loss: 0.0677 - accuracy: 0.9851 - val_loss: 0.3404 - val_accuracy: 0.8792\n",
      "Epoch 9/20\n",
      "15000/15000 - 1s - loss: 0.0535 - accuracy: 0.9900 - val_loss: 0.3657 - val_accuracy: 0.8779\n",
      "Epoch 10/20\n",
      "15000/15000 - 1s - loss: 0.0421 - accuracy: 0.9937 - val_loss: 0.3907 - val_accuracy: 0.8756\n",
      "Epoch 11/20\n",
      "15000/15000 - 1s - loss: 0.0334 - accuracy: 0.9955 - val_loss: 0.4164 - val_accuracy: 0.8755\n",
      "Epoch 12/20\n",
      "15000/15000 - 1s - loss: 0.0268 - accuracy: 0.9975 - val_loss: 0.4410 - val_accuracy: 0.8745\n",
      "Epoch 13/20\n",
      "15000/15000 - 1s - loss: 0.0214 - accuracy: 0.9989 - val_loss: 0.4668 - val_accuracy: 0.8708\n",
      "Epoch 14/20\n",
      "15000/15000 - 1s - loss: 0.0174 - accuracy: 0.9993 - val_loss: 0.4916 - val_accuracy: 0.8705\n",
      "Epoch 15/20\n",
      "15000/15000 - 1s - loss: 0.0142 - accuracy: 0.9997 - val_loss: 0.5141 - val_accuracy: 0.8702\n",
      "Epoch 16/20\n",
      "15000/15000 - 1s - loss: 0.0117 - accuracy: 0.9998 - val_loss: 0.5354 - val_accuracy: 0.8692\n",
      "Epoch 17/20\n",
      "15000/15000 - 1s - loss: 0.0098 - accuracy: 0.9999 - val_loss: 0.5566 - val_accuracy: 0.8681\n",
      "Epoch 18/20\n",
      "15000/15000 - 1s - loss: 0.0084 - accuracy: 0.9999 - val_loss: 0.5763 - val_accuracy: 0.8674\n",
      "Epoch 19/20\n",
      "15000/15000 - 1s - loss: 0.0071 - accuracy: 0.9999 - val_loss: 0.5948 - val_accuracy: 0.8661\n",
      "Epoch 20/20\n",
      "15000/15000 - 1s - loss: 0.0062 - accuracy: 0.9999 - val_loss: 0.6116 - val_accuracy: 0.8664\n"
     ]
    }
   ],
   "source": [
    "baseline_history = baseline_model.fit(partial_x_train,\n",
    "                                      partial_y_train,\n",
    "                                      epochs=20,\n",
    "                                      batch_size=512,\n",
    "                                      validation_data=(x_val, y_val),\n",
    "                                      verbose=2)"
   ]
  },
  {
   "cell_type": "markdown",
   "metadata": {},
   "source": [
    "#### Create a smaller model\n",
    "Let's create a model with less hidden units to compare against the baseline model that we just created:"
   ]
  },
  {
   "cell_type": "code",
   "execution_count": 7,
   "metadata": {},
   "outputs": [
    {
     "name": "stdout",
     "output_type": "stream",
     "text": [
      "Model: \"sequential_1\"\n",
      "_________________________________________________________________\n",
      "Layer (type)                 Output Shape              Param #   \n",
      "=================================================================\n",
      "dense_3 (Dense)              (None, 4)                 40004     \n",
      "_________________________________________________________________\n",
      "dense_4 (Dense)              (None, 4)                 20        \n",
      "_________________________________________________________________\n",
      "dense_5 (Dense)              (None, 1)                 5         \n",
      "=================================================================\n",
      "Total params: 40,029\n",
      "Trainable params: 40,029\n",
      "Non-trainable params: 0\n",
      "_________________________________________________________________\n"
     ]
    }
   ],
   "source": [
    "smaller_model = tf.keras.Sequential([\n",
    "    # TODO: add a first dense layer with 4 nodes applying ReLU activation function\n",
    "    tf.keras.layers.Dense(4, activation='relu', input_shape=(NUM_WORDS,)),\n",
    "    # TODO: add a second dense layer with 4 nodes applying ReLU activation function\n",
    "    tf.keras.layers.Dense(4, activation='relu'),\n",
    "    # TODO: add a last dense layer with only 1 node applying Softmax activation function\n",
    "    tf.keras.layers.Dense(1, activation='sigmoid')\n",
    "])\n",
    "\n",
    "smaller_model.compile(optimizer='adam', \n",
    "                      loss='binary_crossentropy',\n",
    "                      metrics=['accuracy'])\n",
    "\n",
    "smaller_model.summary()"
   ]
  },
  {
   "cell_type": "code",
   "execution_count": 8,
   "metadata": {},
   "outputs": [
    {
     "name": "stdout",
     "output_type": "stream",
     "text": [
      "Train on 15000 samples, validate on 10000 samples\n",
      "Epoch 1/20\n",
      "15000/15000 - 1s - loss: 0.6263 - accuracy: 0.7161 - val_loss: 0.5408 - val_accuracy: 0.8233\n",
      "Epoch 2/20\n",
      "15000/15000 - 1s - loss: 0.4648 - accuracy: 0.8623 - val_loss: 0.4262 - val_accuracy: 0.8580\n",
      "Epoch 3/20\n",
      "15000/15000 - 1s - loss: 0.3583 - accuracy: 0.8916 - val_loss: 0.3587 - val_accuracy: 0.8748\n",
      "Epoch 4/20\n",
      "15000/15000 - 1s - loss: 0.2888 - accuracy: 0.9129 - val_loss: 0.3187 - val_accuracy: 0.8847\n",
      "Epoch 5/20\n",
      "15000/15000 - 1s - loss: 0.2414 - accuracy: 0.9255 - val_loss: 0.2974 - val_accuracy: 0.8884\n",
      "Epoch 6/20\n",
      "15000/15000 - 1s - loss: 0.2064 - accuracy: 0.9378 - val_loss: 0.2841 - val_accuracy: 0.8908\n",
      "Epoch 7/20\n",
      "15000/15000 - 1s - loss: 0.1791 - accuracy: 0.9469 - val_loss: 0.2808 - val_accuracy: 0.8889\n",
      "Epoch 8/20\n",
      "15000/15000 - 1s - loss: 0.1575 - accuracy: 0.9547 - val_loss: 0.2774 - val_accuracy: 0.8891\n",
      "Epoch 9/20\n",
      "15000/15000 - 1s - loss: 0.1390 - accuracy: 0.9611 - val_loss: 0.2786 - val_accuracy: 0.8888\n",
      "Epoch 10/20\n",
      "15000/15000 - 1s - loss: 0.1232 - accuracy: 0.9667 - val_loss: 0.2843 - val_accuracy: 0.8880\n",
      "Epoch 11/20\n",
      "15000/15000 - 1s - loss: 0.1104 - accuracy: 0.9721 - val_loss: 0.2890 - val_accuracy: 0.8877\n",
      "Epoch 12/20\n",
      "15000/15000 - 1s - loss: 0.0977 - accuracy: 0.9761 - val_loss: 0.2957 - val_accuracy: 0.8842\n",
      "Epoch 13/20\n",
      "15000/15000 - 1s - loss: 0.0873 - accuracy: 0.9805 - val_loss: 0.3034 - val_accuracy: 0.8835\n",
      "Epoch 14/20\n",
      "15000/15000 - 1s - loss: 0.0790 - accuracy: 0.9833 - val_loss: 0.3130 - val_accuracy: 0.8823\n",
      "Epoch 15/20\n",
      "15000/15000 - 1s - loss: 0.0700 - accuracy: 0.9872 - val_loss: 0.3228 - val_accuracy: 0.8809\n",
      "Epoch 16/20\n",
      "15000/15000 - 1s - loss: 0.0630 - accuracy: 0.9888 - val_loss: 0.3339 - val_accuracy: 0.8819\n",
      "Epoch 17/20\n",
      "15000/15000 - 1s - loss: 0.0559 - accuracy: 0.9908 - val_loss: 0.3442 - val_accuracy: 0.8798\n",
      "Epoch 18/20\n",
      "15000/15000 - 1s - loss: 0.0500 - accuracy: 0.9925 - val_loss: 0.3575 - val_accuracy: 0.8806\n",
      "Epoch 19/20\n",
      "15000/15000 - 1s - loss: 0.0449 - accuracy: 0.9937 - val_loss: 0.3669 - val_accuracy: 0.8792\n",
      "Epoch 20/20\n",
      "15000/15000 - 1s - loss: 0.0403 - accuracy: 0.9949 - val_loss: 0.3790 - val_accuracy: 0.8781\n"
     ]
    }
   ],
   "source": [
    "smaller_history = smaller_model.fit(partial_x_train,\n",
    "                                    partial_y_train,\n",
    "                                    epochs=20,\n",
    "                                    batch_size=512,\n",
    "                                    validation_data=(x_val, y_val),\n",
    "                                    verbose=2)"
   ]
  },
  {
   "cell_type": "markdown",
   "metadata": {},
   "source": [
    "#### Create a bigger model\n",
    "As an exercise, you can create an even larger model, and see how quickly it begins overfitting. Next, let's add to this benchmark a network that has much more capacity, far more than the problem would warrant:"
   ]
  },
  {
   "cell_type": "code",
   "execution_count": 9,
   "metadata": {},
   "outputs": [
    {
     "name": "stdout",
     "output_type": "stream",
     "text": [
      "Model: \"sequential_2\"\n",
      "_________________________________________________________________\n",
      "Layer (type)                 Output Shape              Param #   \n",
      "=================================================================\n",
      "dense_6 (Dense)              (None, 512)               5120512   \n",
      "_________________________________________________________________\n",
      "dense_7 (Dense)              (None, 512)               262656    \n",
      "_________________________________________________________________\n",
      "dense_8 (Dense)              (None, 1)                 513       \n",
      "=================================================================\n",
      "Total params: 5,383,681\n",
      "Trainable params: 5,383,681\n",
      "Non-trainable params: 0\n",
      "_________________________________________________________________\n"
     ]
    }
   ],
   "source": [
    "bigger_model = tf.keras.Sequential([\n",
    "    # TODO: add a first dense layer with 512 nodes applying ReLU activation function\n",
    "    tf.keras.layers.Dense(512, activation='relu', input_shape=(NUM_WORDS,)),\n",
    "    # TODO: add a second dense layer with 512 nodes applying ReLU activation function\n",
    "    tf.keras.layers.Dense(512, activation='relu'),\n",
    "    # TODO: add a last dense layer with only 1 node applying Softmax activation function\n",
    "    tf.keras.layers.Dense(1, activation='sigmoid')\n",
    "])\n",
    "\n",
    "bigger_model.compile(optimizer='adam', \n",
    "                     loss='binary_crossentropy',\n",
    "                     metrics=['accuracy'])\n",
    "\n",
    "bigger_model.summary()"
   ]
  },
  {
   "cell_type": "code",
   "execution_count": 10,
   "metadata": {},
   "outputs": [
    {
     "name": "stdout",
     "output_type": "stream",
     "text": [
      "Train on 15000 samples, validate on 10000 samples\n",
      "Epoch 1/20\n",
      "15000/15000 - 2s - loss: 0.3842 - accuracy: 0.8337 - val_loss: 0.2827 - val_accuracy: 0.8864\n",
      "Epoch 2/20\n",
      "15000/15000 - 2s - loss: 0.1343 - accuracy: 0.9529 - val_loss: 0.3266 - val_accuracy: 0.8795\n",
      "Epoch 3/20\n",
      "15000/15000 - 2s - loss: 0.0414 - accuracy: 0.9891 - val_loss: 0.4453 - val_accuracy: 0.8729\n",
      "Epoch 4/20\n",
      "15000/15000 - 2s - loss: 0.0072 - accuracy: 0.9991 - val_loss: 0.5726 - val_accuracy: 0.8750\n",
      "Epoch 5/20\n",
      "15000/15000 - 2s - loss: 0.0016 - accuracy: 1.0000 - val_loss: 0.6339 - val_accuracy: 0.8772\n",
      "Epoch 6/20\n",
      "15000/15000 - 2s - loss: 4.3890e-04 - accuracy: 1.0000 - val_loss: 0.6801 - val_accuracy: 0.8763\n",
      "Epoch 7/20\n",
      "15000/15000 - 2s - loss: 2.2814e-04 - accuracy: 1.0000 - val_loss: 0.7110 - val_accuracy: 0.8770\n",
      "Epoch 8/20\n",
      "15000/15000 - 2s - loss: 1.5636e-04 - accuracy: 1.0000 - val_loss: 0.7333 - val_accuracy: 0.8771\n",
      "Epoch 9/20\n",
      "15000/15000 - 2s - loss: 1.1760e-04 - accuracy: 1.0000 - val_loss: 0.7515 - val_accuracy: 0.8768\n",
      "Epoch 10/20\n",
      "15000/15000 - 2s - loss: 9.1985e-05 - accuracy: 1.0000 - val_loss: 0.7677 - val_accuracy: 0.8773\n",
      "Epoch 11/20\n",
      "15000/15000 - 2s - loss: 7.4287e-05 - accuracy: 1.0000 - val_loss: 0.7822 - val_accuracy: 0.8768\n",
      "Epoch 12/20\n",
      "15000/15000 - 2s - loss: 6.1248e-05 - accuracy: 1.0000 - val_loss: 0.7956 - val_accuracy: 0.8777\n",
      "Epoch 13/20\n",
      "15000/15000 - 2s - loss: 5.1077e-05 - accuracy: 1.0000 - val_loss: 0.8078 - val_accuracy: 0.8773\n",
      "Epoch 14/20\n",
      "15000/15000 - 2s - loss: 4.3234e-05 - accuracy: 1.0000 - val_loss: 0.8197 - val_accuracy: 0.8776\n",
      "Epoch 15/20\n",
      "15000/15000 - 2s - loss: 3.6986e-05 - accuracy: 1.0000 - val_loss: 0.8308 - val_accuracy: 0.8780\n",
      "Epoch 16/20\n",
      "15000/15000 - 2s - loss: 3.1867e-05 - accuracy: 1.0000 - val_loss: 0.8413 - val_accuracy: 0.8776\n",
      "Epoch 17/20\n",
      "15000/15000 - 2s - loss: 2.7713e-05 - accuracy: 1.0000 - val_loss: 0.8514 - val_accuracy: 0.8776\n",
      "Epoch 18/20\n",
      "15000/15000 - 2s - loss: 2.4267e-05 - accuracy: 1.0000 - val_loss: 0.8613 - val_accuracy: 0.8778\n",
      "Epoch 19/20\n",
      "15000/15000 - 2s - loss: 2.1331e-05 - accuracy: 1.0000 - val_loss: 0.8707 - val_accuracy: 0.8778\n",
      "Epoch 20/20\n",
      "15000/15000 - 2s - loss: 1.8878e-05 - accuracy: 1.0000 - val_loss: 0.8797 - val_accuracy: 0.8778\n"
     ]
    }
   ],
   "source": [
    "bigger_history = bigger_model.fit(partial_x_train,\n",
    "                                  partial_y_train,\n",
    "                                  epochs=20,\n",
    "                                  batch_size=512,\n",
    "                                  validation_data=(x_val, y_val),\n",
    "                                  verbose=2)"
   ]
  },
  {
   "cell_type": "markdown",
   "metadata": {},
   "source": [
    "#### Plot the training and validation loss\n",
    "The solid lines show the training loss, and the dashed lines show the validation loss (remember: a lower validation loss indicates a better model). Here, the smaller network begins overfitting later than the baseline model (after 6 epochs rather than 4) and its performance degrades much more slowly once it starts overfitting."
   ]
  },
  {
   "cell_type": "code",
   "execution_count": 11,
   "metadata": {},
   "outputs": [
    {
     "data": {
      "text/plain": [
       "dict_keys(['loss', 'accuracy', 'val_loss', 'val_accuracy'])"
      ]
     },
     "execution_count": 11,
     "metadata": {},
     "output_type": "execute_result"
    }
   ],
   "source": [
    "history_dict = baseline_history.history\n",
    "history_dict.keys()"
   ]
  },
  {
   "cell_type": "code",
   "execution_count": 12,
   "metadata": {},
   "outputs": [],
   "source": [
    "def plot_history(histories, key='loss'):\n",
    "    plt.figure(figsize=(16,10))\n",
    "    \n",
    "    for name, history in histories:\n",
    "        val = plt.plot(history.epoch, history.history['val_'+key],\n",
    "                       '--', label=name.title()+' Val')\n",
    "        plt.plot(history.epoch, history.history[key], color=val[0].get_color(),\n",
    "                 label=name.title()+' Train')\n",
    "        \n",
    "    plt.xlabel('Epochs')\n",
    "    plt.ylabel(key.replace('_',' ').title())\n",
    "    plt.legend()\n",
    "    \n",
    "    plt.xlim([0,max(history.epoch)])"
   ]
  },
  {
   "cell_type": "code",
   "execution_count": null,
   "metadata": {},
   "outputs": [],
   "source": [
    "plot_history([('baseline', baseline_history),\n",
    "              ('smaller', smaller_history),\n",
    "              ('bigger', bigger_history)])"
   ]
  },
  {
   "cell_type": "markdown",
   "metadata": {},
   "source": [
    "Notice that the larger network begins overfitting almost right away, after just one epoch, and overfits much more severely. **The more capacity the network has, the quicker it will be able to model the training data (resulting in a low training loss)**, but the more susceptible it is to overfitting (resulting in a large difference between the training and validation loss)."
   ]
  },
  {
   "cell_type": "markdown",
   "metadata": {},
   "source": [
    "#### Solution 1: Add weight regularization\n",
    "\n",
    "Given some training data and a network architecture, there are multiple sets of weights values (multiple models) that could explain the data, and simpler models are less likely to overfit than complex ones. A \"simple model\" in this context is a model where the distribution of parameter values has less entropy (or a model with fewer parameters altogether, as we saw in the section above). \n",
    "\n",
    "Thus a common way to mitigate overfitting is to **put constraints on the complexity of a network by forcing its weights only to take small values**, which **makes the distribution of weight values more \"regular\".** This is called **\"_weight regularization_\"**, and it is done by adding to the loss function of the network a cost associated with having large weights. This cost comes in two flavors:\n",
    "\n",
    " - [L1 regularization](https://developers.google.com/machine-learning/glossary/#L1_regularization), where the cost added is proportional to the absolute value of the weights coefficients (i.e. to what is called the \"L1 norm\" of the weights).\n",
    "\n",
    " - [L2 regularization](https://developers.google.com/machine-learning/glossary/#L2_regularization), where the cost added is proportional to the square of the value of the weights coefficients (i.e. to what is called the squared \"L2 norm\" of the weights). L2 regularization is also called weight decay in the context of neural networks. Don't let the different name confuse you: weight decay is mathematically the exact same as L2 regularization.\n",
    " \n",
    "In `tf.keras`, weight regularization is added by passing weight regularizer instances to layers as keyword arguments. Let's add L2 weight regularization now."
   ]
  },
  {
   "cell_type": "code",
   "execution_count": null,
   "metadata": {},
   "outputs": [],
   "source": [
    "l2_model = tf.keras.Sequential([\n",
    "    # TODO: add a first dense layer with 16 nodes applying ReLU activation function \n",
    "    #                   with L2 regularization term \n",
    "    tf.keras.layers.Dense(16, kernel_regularizer=tf.keras.regularizers.l2(0.001),\n",
    "                          activation='relu', input_shape=(NUM_WORDS,)),\n",
    "    # TODO: add a second dense layer with 16 nodes applying ReLU activation function\n",
    "    #                   with L2 regularization term \n",
    "    tf.keras.layers.Dense(16, kernel_regularizer=tf.keras.regularizers.l2(0.001),\n",
    "                          activation='relu'),\n",
    "    # TODO: add a last dense layer with only 1 node applying Softmax activation function\n",
    "    tf.keras.layers.Dense(1, activation='sigmoid')\n",
    "])\n",
    "\n",
    "l2_model.compile(optimizer='adam', \n",
    "                 loss='binary_crossentropy',\n",
    "                 metrics=['accuracy'])\n",
    "\n",
    "l2_model.summary()"
   ]
  },
  {
   "cell_type": "markdown",
   "metadata": {},
   "source": [
    "l2(0.001) means that every coefficient in the weight matrix of the layer will add 0.001 * weight_coefficient_value**2 to the total loss of the network. Note that because this penalty is only added at training time, the loss for this network will be much higher at training than at test time.\n",
    "\n",
    "Here's the impact of our L2 regularization penalty:"
   ]
  },
  {
   "cell_type": "code",
   "execution_count": null,
   "metadata": {},
   "outputs": [],
   "source": [
    "l2_model_history = l2_model.fit(partial_x_train,\n",
    "                                partial_y_train,\n",
    "                                epochs=20,\n",
    "                                batch_size=512,\n",
    "                                validation_data=(x_val, y_val),\n",
    "                                verbose=2)"
   ]
  },
  {
   "cell_type": "code",
   "execution_count": null,
   "metadata": {},
   "outputs": [],
   "source": [
    "plot_history([('baseline', baseline_history),\n",
    "              ('l2', l2_model_history)])"
   ]
  },
  {
   "cell_type": "markdown",
   "metadata": {},
   "source": [
    "As you can see, the L2 regularized model has become much more resistant to overfitting than the baseline model, even though both models have the same number of parameters."
   ]
  },
  {
   "cell_type": "markdown",
   "metadata": {},
   "source": [
    "#### Solution 2: Add dropout\n",
    "\n",
    "Dropout is one of the most effective and most commonly used regularization techniques for neural networks. Dropout, applied to a layer, consists of randomly \"dropping out\" (i.e. set to zero) a number of output features of the layer during training. \n",
    "\n",
    "<img src=\"images/dropout.png\"  width=\"500\">\n",
    "\n",
    "The \"dropout rate\" is the fraction of the features that are being zeroed-out; it is usually set between 0.2 and 0.5. At test time, no units are dropped out, and instead the layer's output values are scaled down by a factor equal to the dropout rate, so as to balance for the fact that more units are active than at training time.\n",
    "\n",
    "In tf.keras you can introduce dropout in a network via the Dropout layer, which gets applied to the output of layer right before.\n",
    "\n",
    "Let's add two Dropout layers in our IMDB network to see how well they do at reducing overfitting:"
   ]
  },
  {
   "cell_type": "code",
   "execution_count": null,
   "metadata": {},
   "outputs": [],
   "source": [
    "dp_model = tf.keras.Sequential([\n",
    "    # TODO: add a first dense layer with 16 nodes applying ReLU activation function \n",
    "    tf.keras.layers.Dense(16, activation='relu', input_shape=(NUM_WORDS,)),\n",
    "    # TODO: add a dropout layer with 0.5 dropout rate\n",
    "    tf.keras.layers.Dropout(0.5),\n",
    "    # TODO: add a second dense layer with 16 nodes applying ReLU activation function\n",
    "    tf.keras.layers.Dense(16, activation='relu'),\n",
    "    # TODO: add a dropout layer with 0.5 dropout rate\n",
    "    tf.keras.layers.Dropout(0.5),\n",
    "    # TODO: add a last dense layer with only 1 node applying Softmax activation function\n",
    "    tf.keras.layers.Dense(1, activation='sigmoid')\n",
    "])\n",
    "\n",
    "dp_model.compile(optimizer='adam', \n",
    "                 loss='binary_crossentropy',\n",
    "                 metrics=['accuracy'])\n",
    "\n",
    "dp_model.summary()"
   ]
  },
  {
   "cell_type": "code",
   "execution_count": null,
   "metadata": {},
   "outputs": [],
   "source": [
    "dp_model_history = dp_model.fit(partial_x_train,\n",
    "                                partial_y_train,\n",
    "                                epochs=20,\n",
    "                                batch_size=512,\n",
    "                                validation_data=(x_val, y_val),\n",
    "                                verbose=2)"
   ]
  },
  {
   "cell_type": "code",
   "execution_count": null,
   "metadata": {},
   "outputs": [],
   "source": [
    "plot_history([('baseline', baseline_history),\n",
    "              ('dropout', dp_model_history)])"
   ]
  },
  {
   "cell_type": "markdown",
   "metadata": {},
   "source": [
    "Adding dropout is a clear improvement over the baseline model.\n",
    "\n",
    "To recap: here the most common ways to prevent overfitting in neural networks:\n",
    "\n",
    "- Get more training data.\n",
    "- Reduce the capacity of the network.\n",
    "- Add weight regularization.\n",
    "- Add dropout.\n",
    "\n",
    "And two important approaches not covered in this guide are data-augmentation and batch normalization."
   ]
  },
  {
   "cell_type": "code",
   "execution_count": null,
   "metadata": {},
   "outputs": [],
   "source": []
  }
 ],
 "metadata": {
  "kernelspec": {
   "display_name": "Python 3",
   "language": "python",
   "name": "python3"
  },
  "language_info": {
   "codemirror_mode": {
    "name": "ipython",
    "version": 3
   },
   "file_extension": ".py",
   "mimetype": "text/x-python",
   "name": "python",
   "nbconvert_exporter": "python",
   "pygments_lexer": "ipython3",
   "version": "3.6.8"
  }
 },
 "nbformat": 4,
 "nbformat_minor": 4
}
